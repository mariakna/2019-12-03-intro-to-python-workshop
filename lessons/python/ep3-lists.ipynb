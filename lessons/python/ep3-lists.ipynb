{
 "cells": [
  {
   "cell_type": "markdown",
   "metadata": {},
   "source": [
    "# Programming with Python\n",
    "\n",
    "## Episode 3 - Storing Multiple Values in Lists\n",
    "\n",
    "Teaching: 30 min, \n",
    "Exercises: 30 min "
   ]
  },
  {
   "cell_type": "markdown",
   "metadata": {},
   "source": [
    "## Objectives\n",
    "- Explain what a list is.\n",
    "- Create and index lists of simple values.\n",
    "- Change the values of individual elements\n",
    "- Append values to an existing list\n",
    "- Reorder and slice list elements\n",
    "- Create and manipulate nested lists"
   ]
  },
  {
   "cell_type": "markdown",
   "metadata": {},
   "source": [
    "#### How can I store many values together?\n",
    "Just as a `for loop` is a way to do operations many times, a list is a way to store many values. Unlike NumPy arrays, lists are built into the language (so we don't have to load a library to use them). We create a list by putting values inside square brackets and separating the values with commas:\n",
    "```\n",
    "odds = [1, 3, 5, 7]\n",
    "print('odds are:', odds)\n",
    "```"
   ]
  },
  {
   "cell_type": "code",
   "execution_count": 4,
   "metadata": {},
   "outputs": [
    {
     "name": "stdout",
     "output_type": "stream",
     "text": [
      "odds are: [1, 3, 5, 7]\n",
      "1\n",
      "a\n"
     ]
    }
   ],
   "source": [
    "odds = [1, 3, 5, 7]\n",
    "print('odds are:', odds)\n",
    "\n",
    "print(odds[0])\n",
    "\n",
    "# lists are mutable\n",
    "odds[1] = 'a'\n",
    "print(odds[1])"
   ]
  },
  {
   "cell_type": "markdown",
   "metadata": {},
   "source": [
    "We can access elements of a list using indices – numbered positions of elements in the list. These positions are numbered starting at 0, so the first element has an index of 0.\n",
    "```\n",
    "print('first element:', odds[0])\n",
    "print('last element:', odds[3])\n",
    "print('\"-1\" element:', odds[-1])\n",
    "```"
   ]
  },
  {
   "cell_type": "code",
   "execution_count": 5,
   "metadata": {},
   "outputs": [
    {
     "name": "stdout",
     "output_type": "stream",
     "text": [
      "first element: 1\n",
      "last element: 7\n",
      "\"-1\" element: 7\n"
     ]
    }
   ],
   "source": [
    "print('first element:', odds[0])\n",
    "print('last element:', odds[3])\n",
    "# negatives count from the back, -2 element is 5, -1 element is 7\n",
    "print('\"-1\" element:', odds[-1])"
   ]
  },
  {
   "cell_type": "markdown",
   "metadata": {},
   "source": [
    "Yes, we can use negative numbers as indices in Python. When we do so, the index `-1` gives us the last element in the list, `-2` the second to last, and so on. \n",
    "\n",
    "Because of this, `odds[3]` and `odds[-1]` point to the same element here.\n",
    "\n",
    "If we loop over a list, the loop variable is assigned elements one at a time:\n",
    "\n",
    "for number in odds:\n",
    "    print(number)"
   ]
  },
  {
   "cell_type": "code",
   "execution_count": 7,
   "metadata": {},
   "outputs": [
    {
     "name": "stdout",
     "output_type": "stream",
     "text": [
      "1\n",
      "3\n",
      "5\n",
      "7\n"
     ]
    }
   ],
   "source": [
    "odds = [1, 3, 5, 7]\n",
    "for number in odds:\n",
    "    print(number)"
   ]
  },
  {
   "cell_type": "markdown",
   "metadata": {},
   "source": [
    "There is one important difference between lists and strings: we can change the values in a list, but we cannot change individual characters in a string. For example:\n",
    "```\n",
    "names = ['Curie', 'Darwing', 'Turing']  # typo in Darwin's name\n",
    "print('names is originally:', names)\n",
    "names[1] = 'Darwin'  # correct the name\n",
    "print('final value of names:', names)\n",
    "```"
   ]
  },
  {
   "cell_type": "code",
   "execution_count": 8,
   "metadata": {},
   "outputs": [
    {
     "name": "stdout",
     "output_type": "stream",
     "text": [
      "names is originally: ['Curie', 'Darwing', 'Turing']\n",
      "final value of names: ['Curie', 'Darwin', 'Turing']\n"
     ]
    }
   ],
   "source": [
    "names = ['Curie', 'Darwing', 'Turing']  # typo in Darwin's name\n",
    "print('names is originally:', names)\n",
    "names[1] = 'Darwin'  # correct the name\n",
    "print('final value of names:', names)"
   ]
  },
  {
   "cell_type": "markdown",
   "metadata": {},
   "source": [
    "works, but:\n",
    "```\n",
    "name = 'Darwin'\n",
    "name[0] = 'd'\n",
    "```\n",
    "\n",
    "doesn't."
   ]
  },
  {
   "cell_type": "code",
   "execution_count": 9,
   "metadata": {},
   "outputs": [
    {
     "ename": "TypeError",
     "evalue": "'str' object does not support item assignment",
     "output_type": "error",
     "traceback": [
      "\u001b[0;31m---------------------------------------------------------------------------\u001b[0m",
      "\u001b[0;31mTypeError\u001b[0m                                 Traceback (most recent call last)",
      "\u001b[0;32m<ipython-input-9-9030064e45ad>\u001b[0m in \u001b[0;36m<module>\u001b[0;34m\u001b[0m\n\u001b[1;32m      1\u001b[0m \u001b[0mname\u001b[0m \u001b[0;34m=\u001b[0m \u001b[0;34m'Darwin'\u001b[0m\u001b[0;34m\u001b[0m\u001b[0;34m\u001b[0m\u001b[0m\n\u001b[0;32m----> 2\u001b[0;31m \u001b[0mname\u001b[0m\u001b[0;34m[\u001b[0m\u001b[0;36m0\u001b[0m\u001b[0;34m]\u001b[0m \u001b[0;34m=\u001b[0m \u001b[0;34m'd'\u001b[0m\u001b[0;34m\u001b[0m\u001b[0;34m\u001b[0m\u001b[0m\n\u001b[0m",
      "\u001b[0;31mTypeError\u001b[0m: 'str' object does not support item assignment"
     ]
    }
   ],
   "source": []
  },
  {
   "cell_type": "markdown",
   "metadata": {},
   "source": [
    "### Ch-Ch-Ch-Ch-Changes\n",
    "Data which can be modified in place is called *mutable*, while data which cannot be modified is called *immutable*. Strings and numbers are immutable. This does not mean that variables with string or number values are constants, but when we want to change the value of a string or number variable, we can only replace the old value with a completely new value.\n",
    "\n",
    "Lists and arrays, on the other hand, are mutable: we can modify them after they have been created. We can change individual elements, append new elements, or reorder the whole list. For some operations, like sorting, we can choose whether to use a function that modifies the data in-place or a function that returns a modified copy and leaves the original unchanged.\n",
    "\n",
    "Be careful when modifying data in-place. If two variables refer to the same list, and you modify the list value, it will change for both variables!\n",
    "```\n",
    "salsa = ['peppers', 'onions', 'cilantro', 'tomatoes']\n",
    "my_salsa = salsa        # <-- my_salsa and salsa point to the *same* list data in memory\n",
    "salsa[0] = 'hot peppers'\n",
    "print('Ingredients in salsa:', salsa)\n",
    "print('Ingredients in my salsa:', my_salsa)\n",
    "```"
   ]
  },
  {
   "cell_type": "code",
   "execution_count": 10,
   "metadata": {},
   "outputs": [
    {
     "name": "stdout",
     "output_type": "stream",
     "text": [
      "Ingredients in salsa: ['hot peppers', 'onions', 'cilantro', 'tomatoes']\n",
      "Ingredients in my salsa: ['hot peppers', 'onions', 'cilantro', 'tomatoes']\n"
     ]
    }
   ],
   "source": [
    "salsa = ['peppers', 'onions', 'cilantro', 'tomatoes']\n",
    "my_salsa = salsa        # <-- my_salsa and salsa point to the *same* list data in memory\n",
    "salsa[0] = 'hot peppers'\n",
    "print('Ingredients in salsa:', salsa)\n",
    "print('Ingredients in my salsa:', my_salsa)"
   ]
  },
  {
   "cell_type": "markdown",
   "metadata": {},
   "source": [
    "If you want variables with mutable values to be independent, you must make a copy of the value when you assign it.\n",
    "```\n",
    "salsa = ['peppers', 'onions', 'cilantro', 'tomatoes']\n",
    "my_salsa = list(salsa)        # <-- makes a *copy* of the list\n",
    "salsa[0] = 'hot peppers'\n",
    "print('Ingredients in salsa:', salsa)\n",
    "print('Ingredients in my salsa:', my_salsa)\n",
    "```"
   ]
  },
  {
   "cell_type": "code",
   "execution_count": 11,
   "metadata": {},
   "outputs": [
    {
     "name": "stdout",
     "output_type": "stream",
     "text": [
      "Ingredients in salsa: ['hot peppers', 'onions', 'cilantro', 'tomatoes']\n",
      "Ingredients in my salsa: ['peppers', 'onions', 'cilantro', 'tomatoes']\n"
     ]
    }
   ],
   "source": [
    "salsa = ['peppers', 'onions', 'cilantro', 'tomatoes']\n",
    "my_salsa = list(salsa)        # <-- makes a *copy* of the list\n",
    "salsa[0] = 'hot peppers'\n",
    "print('Ingredients in salsa:', salsa)\n",
    "print('Ingredients in my salsa:', my_salsa)"
   ]
  },
  {
   "cell_type": "markdown",
   "metadata": {},
   "source": [
    "Because of pitfalls like this, code which modifies data in place can be more difficult to understand. However, it is often far more efficient to modify a large data structure in place than to create a modified copy for every small change. You should consider both of these aspects when writing your code."
   ]
  },
  {
   "cell_type": "markdown",
   "metadata": {},
   "source": [
    "### Nested Lists\n",
    "Since lists can contain any Python variable type, it can even contain other lists.\n",
    "\n",
    "For example, we could represent the products in the shelves of a small grocery shop:\n",
    "```\n",
    "shop = [['pepper', 'zucchini', 'onion'],\n",
    "     ['cabbage', 'lettuce', 'garlic'],\n",
    "     ['apple', 'pear', 'banana']]\n",
    "```"
   ]
  },
  {
   "cell_type": "code",
   "execution_count": 14,
   "metadata": {},
   "outputs": [
    {
     "name": "stdout",
     "output_type": "stream",
     "text": [
      "[['pepper', 'zucchini', 'onion'], ['cabbage', 'lettuce', 'garlic'], ['apple', 'pear', 'banana']]\n"
     ]
    }
   ],
   "source": [
    "shop = [['pepper', 'zucchini', 'onion'],\n",
    "     ['cabbage', 'lettuce', 'garlic'],\n",
    "     ['apple', 'pear', 'banana']]\n",
    "\n",
    "print(shop)"
   ]
  },
  {
   "cell_type": "markdown",
   "metadata": {},
   "source": [
    "Here is an example of how indexing a list of lists works:\n",
    "\n",
    "The first element of our list is another list representing the first shelf:\n",
    "```\n",
    "print(shop[0])\n",
    "```"
   ]
  },
  {
   "cell_type": "code",
   "execution_count": 13,
   "metadata": {},
   "outputs": [
    {
     "name": "stdout",
     "output_type": "stream",
     "text": [
      "['pepper', 'zucchini', 'onion']\n"
     ]
    }
   ],
   "source": [
    "print(shop[0])"
   ]
  },
  {
   "cell_type": "markdown",
   "metadata": {},
   "source": [
    "to reference a particular item on a particular shelf (e.g. the third item on the second shelf - i.e. the `garlic`) we'd use extra `[` `]`'s\n",
    "\n",
    "```\n",
    "print(shop[1][2])\n",
    "```\n",
    "\n",
    "don't forget the zero index thing ..."
   ]
  },
  {
   "cell_type": "code",
   "execution_count": 15,
   "metadata": {},
   "outputs": [
    {
     "name": "stdout",
     "output_type": "stream",
     "text": [
      "garlic\n"
     ]
    }
   ],
   "source": [
    "# these indexes are calles subscripts\n",
    "print(shop[1][2])"
   ]
  },
  {
   "cell_type": "code",
   "execution_count": 24,
   "metadata": {},
   "outputs": [
    {
     "name": "stdout",
     "output_type": "stream",
     "text": [
      "[['pepper', 'zucchini', 'onion'], ['cabbage', 'lettuce', 'garlic'], ['apple', 'pear', 'banana'], 42.5, 45.6, 39.8, 3]\n",
      "42.5\n",
      "39.8\n"
     ]
    }
   ],
   "source": [
    "# list of items of different types\n",
    "another_shop = [['pepper', 'zucchini', 'onion'],\n",
    "     ['cabbage', 'lettuce', 'garlic'],\n",
    "     ['apple', 'pear', 'banana'],\n",
    "        42.5, 45.6, 39.8, 3]\n",
    "\n",
    "print(another_shop)\n",
    "print(another_shop[3]) # print(another_shop[3][0]) is not possible\n",
    "print(another_shop[5])"
   ]
  },
  {
   "cell_type": "markdown",
   "metadata": {},
   "source": [
    "### Heterogeneous Lists\n",
    "Lists in Python can contain elements of different types. Example:\n",
    "```\n",
    "sample_ages = [10, 12.5, 'Unknown']\n",
    "```"
   ]
  },
  {
   "cell_type": "code",
   "execution_count": 25,
   "metadata": {},
   "outputs": [],
   "source": [
    "sample_ages = [10, 12.5, 'Unknown']"
   ]
  },
  {
   "cell_type": "markdown",
   "metadata": {},
   "source": [
    "There are many ways to change the contents of lists besides assigning new values to individual elements:\n",
    "```\n",
    "odds.append(11)\n",
    "print('odds after adding a value:', odds)\n",
    "\n",
    "del odds[0]\n",
    "print('odds after removing the first element:', odds)\n",
    "\n",
    "odds.reverse()\n",
    "print('odds after reversing:', odds)\n",
    "```"
   ]
  },
  {
   "cell_type": "code",
   "execution_count": 26,
   "metadata": {},
   "outputs": [
    {
     "name": "stdout",
     "output_type": "stream",
     "text": [
      "odds after adding a value: [1, 3, 5, 7, 11]\n"
     ]
    }
   ],
   "source": [
    "odds.append(11)\n",
    "print('odds after adding a value:', odds)"
   ]
  },
  {
   "cell_type": "code",
   "execution_count": 27,
   "metadata": {},
   "outputs": [
    {
     "name": "stdout",
     "output_type": "stream",
     "text": [
      "odds after removing the first element: [3, 5, 7, 11]\n"
     ]
    }
   ],
   "source": [
    "del odds[0]\n",
    "print('odds after removing the first element:', odds)"
   ]
  },
  {
   "cell_type": "code",
   "execution_count": 28,
   "metadata": {},
   "outputs": [
    {
     "name": "stdout",
     "output_type": "stream",
     "text": [
      "odds after reversing: [11, 7, 5, 3]\n"
     ]
    }
   ],
   "source": [
    "odds.reverse()\n",
    "print('odds after reversing:', odds)"
   ]
  },
  {
   "cell_type": "code",
   "execution_count": 30,
   "metadata": {},
   "outputs": [
    {
     "data": {
      "text/plain": [
       "\u001b[0;31mType:\u001b[0m        list\n",
       "\u001b[0;31mString form:\u001b[0m [11, 7, 5, 3]\n",
       "\u001b[0;31mLength:\u001b[0m      4\n",
       "\u001b[0;31mDocstring:\u001b[0m  \n",
       "Built-in mutable sequence.\n",
       "\n",
       "If no argument is given, the constructor creates a new empty list.\n",
       "The argument must be an iterable if specified.\n"
      ]
     },
     "metadata": {},
     "output_type": "display_data"
    },
    {
     "data": {
      "text/plain": [
       "<function list.append(object, /)>"
      ]
     },
     "execution_count": 30,
     "metadata": {},
     "output_type": "execute_result"
    }
   ],
   "source": [
    "# gives info about the object \"odds\"\n",
    "odds?\n",
    "# do odds. and press tab > shows a documentation for all possible functions that can be used with this variable\n",
    "odds."
   ]
  },
  {
   "cell_type": "markdown",
   "metadata": {},
   "source": [
    "While modifying in place, it is useful to remember that Python treats lists in a slightly counter-intuitive way.\n",
    "\n",
    "If we make a list and (attempt to) copy it then modify in place, we can cause all sorts of trouble:\n",
    "```\n",
    "odds = [1, 3, 5, 7]\n",
    "primes = odds\n",
    "primes.append(2)\n",
    "print('primes:', primes)\n",
    "print('odds:', odds)\n",
    "primes: [1, 3, 5, 7, 2]\n",
    "odds: [1, 3, 5, 7, 2]\n",
    "```"
   ]
  },
  {
   "cell_type": "code",
   "execution_count": 33,
   "metadata": {},
   "outputs": [
    {
     "name": "stdout",
     "output_type": "stream",
     "text": [
      "primes: [1, 3, 5, 7, 2]\n",
      "odds: [1, 3, 5, 7, 2]\n"
     ]
    }
   ],
   "source": [
    "odds = [1, 3, 5, 7]\n",
    "primes = odds\n",
    "primes.append(2)\n",
    "print('primes:', primes)\n",
    "print('odds:', odds)\n",
    "# primes: [1, 3, 5, 7, 2]\n",
    "# odds: [1, 3, 5, 7, 2]"
   ]
  },
  {
   "cell_type": "markdown",
   "metadata": {},
   "source": [
    "This is because Python stores a list in memory, and then can use multiple names to refer to the same list. If all we want to do is copy a (simple) list, we can use the list function, so we do not modify a list we did not mean to:\n",
    "```\n",
    "odds = [1, 3, 5, 7]\n",
    "primes = list(odds)\n",
    "primes.append(2)\n",
    "print('primes:', primes)\n",
    "print('odds:', odds)\n",
    "primes: [1, 3, 5, 7, 2]\n",
    "odds: [1, 3, 5, 7]\n",
    "```"
   ]
  },
  {
   "cell_type": "code",
   "execution_count": 39,
   "metadata": {},
   "outputs": [
    {
     "name": "stdout",
     "output_type": "stream",
     "text": [
      "primes: [1, 3, 5, 7, 2]\n",
      "odds: [1, 3, 5, 7]\n"
     ]
    }
   ],
   "source": [
    "odds = [1, 3, 5, 7]\n",
    "primes = list(odds)\n",
    "primes.append(2)\n",
    "print('primes:', primes)\n",
    "print('odds:', odds)\n",
    "# primes: [1, 3, 5, 7, 2]\n",
    "# odds: [1, 3, 5, 7]\n",
    "\n",
    "# another way to copy is to create a new slice\n",
    "# here, we slice from the beginning to the end\n",
    "primes = odds[:]\n",
    "\n",
    "# another option\n",
    "primes = odds.copy()"
   ]
  },
  {
   "cell_type": "code",
   "execution_count": 46,
   "metadata": {},
   "outputs": [
    {
     "name": "stdout",
     "output_type": "stream",
     "text": [
      "[['pepper', 'zucchini', 'onion'], ['cabbage', 'lettuce', 'garlic'], ['apple', 'pear', 'banana']]\n",
      "[['pepper', 'zucchini', 'onion'], ['cabbage', 'lettuce', 'garlic'], ['apple', 'pear', 'banana']]\n",
      "[['pepper', 'zucchini', 'onion'], ['cabbage', 'lettuce', 'garlic']]\n",
      "[['pepper', 'zucchini', 'onion'], ['cabbage', 'lettuce', 'garlic'], ['apple', 'pear', 'banana']]\n",
      "[['pepper', 'carrot', 'onion'], ['cabbage', 'lettuce', 'garlic']]\n",
      "[['pepper', 'carrot', 'onion'], ['cabbage', 'lettuce', 'garlic'], ['apple', 'pear', 'banana']]\n"
     ]
    }
   ],
   "source": [
    "shop = [['pepper', 'zucchini', 'onion'],\n",
    "     ['cabbage', 'lettuce', 'garlic'],\n",
    "     ['apple', 'pear', 'banana']]\n",
    "\n",
    "print(shop)\n",
    "\n",
    "# a copy only makes a copy of the top level. this is calles a shallow copy\n",
    "another_shop = shop.copy()\n",
    "print(another_shop)\n",
    "del shop[2]\n",
    "\n",
    "print(shop)\n",
    "print(another_shop)\n",
    "\n",
    "# the deeper structure is not copied, it's still stored in one place and is referenced by two variables\n",
    "shop[0][1] = 'carrot'\n",
    "print(shop)\n",
    "print(another_shop)"
   ]
  },
  {
   "cell_type": "code",
   "execution_count": 51,
   "metadata": {},
   "outputs": [
    {
     "name": "stdout",
     "output_type": "stream",
     "text": [
      "original shop: [['pepper', 'zucchini', 'onion'], ['cabbage', 'lettuce', 'garlic'], ['apple', 'pear', 'banana']]\n",
      "original shop minus element 2: [['pepper', 'zucchini', 'onion'], ['cabbage', 'lettuce', 'garlic']]\n",
      "deep copy of shop: [['pepper', 'zucchini', 'onion'], ['cabbage', 'lettuce', 'garlic'], ['apple', 'pear', 'banana']]\n",
      "original shop with carrot and minus element 2: [['pepper', 'carrot', 'onion'], ['cabbage', 'lettuce', 'garlic']]\n",
      "deep copy of shop: [['pepper', 'zucchini', 'onion'], ['cabbage', 'lettuce', 'garlic'], ['apple', 'pear', 'banana']]\n"
     ]
    }
   ],
   "source": [
    "# create a deep copy\n",
    "import copy\n",
    "\n",
    "shop = [['pepper', 'zucchini', 'onion'],\n",
    "     ['cabbage', 'lettuce', 'garlic'],\n",
    "     ['apple', 'pear', 'banana']]\n",
    "\n",
    "third_shop = copy.deepcopy(shop)\n",
    "\n",
    "print('original shop:', shop)\n",
    "del shop[2]\n",
    "print('original shop minus element 2:', shop)\n",
    "print('deep copy of shop:', third_shop)\n",
    "\n",
    "shop[0][1] = 'carrot'\n",
    "print('original shop with carrot and minus element 2:', shop)\n",
    "print('deep copy of shop:', third_shop)"
   ]
  },
  {
   "cell_type": "markdown",
   "metadata": {},
   "source": [
    "### Turn a String Into a List\n",
    "Use a `for loop` to convert the string \"hello\" into a list of letters: `[\"h\", \"e\", \"l\", \"l\", \"o\"]`\n",
    "\n",
    "Hint: You can create an empty list like this:\n",
    "\n",
    "my_list = []"
   ]
  },
  {
   "cell_type": "code",
   "execution_count": 58,
   "metadata": {},
   "outputs": [
    {
     "name": "stdout",
     "output_type": "stream",
     "text": [
      "['h', 'e', 'l', 'l', 'o']\n"
     ]
    }
   ],
   "source": [
    "my_list = []\n",
    "for letter in 'hello':\n",
    "    my_list.append(letter)\n",
    "print(my_list)"
   ]
  },
  {
   "cell_type": "code",
   "execution_count": 60,
   "metadata": {},
   "outputs": [
    {
     "name": "stdout",
     "output_type": "stream",
     "text": [
      "[1, 2, 3, 5, 7]\n",
      "[1, 2, 3, 5, 7, 2]\n"
     ]
    }
   ],
   "source": [
    "# if you want to put a new item in a specific location, use insert\n",
    "odds = [1,3,5,7]\n",
    "primes = odds.copy()\n",
    "primes.insert(1,2)\n",
    "print(primes)\n",
    "\n",
    "# if you insert it past the last position, it inserts it in the end\n",
    "primes.insert(10,2)\n",
    "print(primes)"
   ]
  },
  {
   "cell_type": "markdown",
   "metadata": {},
   "source": [
    "Subsets of lists and strings can be accessed by specifying ranges of values in brackets, similar to how we accessed ranges of positions in a NumPy array. This is commonly referred to as *slicing* the list/string.\n",
    "```\n",
    "binomial_name = \"Drosophila melanogaster\"\n",
    "group = binomial_name[0:10]\n",
    "print(\"group:\", group)\n",
    "\n",
    "species = binomial_name[11:24]\n",
    "print(\"species:\", species)\n",
    "\n",
    "chromosomes = [\"X\", \"Y\", \"2\", \"3\", \"4\"]\n",
    "autosomes = chromosomes[2:5]\n",
    "print(\"autosomes:\", autosomes)\n",
    "\n",
    "last = chromosomes[-1]\n",
    "print(\"last:\", last)\n",
    "```"
   ]
  },
  {
   "cell_type": "code",
   "execution_count": 63,
   "metadata": {},
   "outputs": [
    {
     "name": "stdout",
     "output_type": "stream",
     "text": [
      "group: Drosophila\n"
     ]
    }
   ],
   "source": [
    "binomial_name = \"Drosophila melanogaster\"\n",
    "# the last character (10) is not included\n",
    "group = binomial_name[0:10]\n",
    "print(\"group:\", group)"
   ]
  },
  {
   "cell_type": "code",
   "execution_count": 78,
   "metadata": {},
   "outputs": [
    {
     "name": "stdout",
     "output_type": "stream",
     "text": [
      "species: melanogaster\n",
      "species: melanogaster\n",
      "retsagonalem alihposorD\n",
      "Drosophila melanog\n",
      "10\n",
      "['Drosophila', 'melanogaster']\n",
      "['D', 'r', 'o', 's', 'o', 'p', 'h', 'i', 'l', 'a', ' ', 'm', 'e', 'l', 'a', 'n', 'o', 'g', 'a', 's', 't', 'e', 'r']\n"
     ]
    }
   ],
   "source": [
    "species = binomial_name[11:24]\n",
    "print(\"species:\", species)\n",
    "# or\n",
    "print(\"species:\", binomial_name[11:])\n",
    "\n",
    "# to reverse the string\n",
    "print(binomial_name[::-1])\n",
    "\n",
    "# to leave out some specific characters\n",
    "print(binomial_name[:-5])\n",
    "\n",
    "# find an index for a specific element\n",
    "print(binomial_name.index(' '))\n",
    "\n",
    "# break up by a specific character\n",
    "print(binomial_name.split(' '))\n",
    "\n",
    "# split after every letter\n",
    "print(list(binomial_name))"
   ]
  },
  {
   "cell_type": "code",
   "execution_count": 65,
   "metadata": {},
   "outputs": [
    {
     "name": "stdout",
     "output_type": "stream",
     "text": [
      "autosomes: ['2', '3', '4']\n"
     ]
    }
   ],
   "source": [
    "chromosomes = [\"X\", \"Y\", \"2\", \"3\", \"4\"]\n",
    "autosomes = chromosomes[2:5]\n",
    "print(\"autosomes:\", autosomes)"
   ]
  },
  {
   "cell_type": "markdown",
   "metadata": {},
   "source": [
    "### Slicing From the End\n",
    "Use slicing to access only the last four characters of a string or entries of a list.\n",
    "```\n",
    "string_for_slicing = \"Observation date: 02-Feb-2013\"\n",
    "list_for_slicing = [[\"fluorine\", \"F\"],\n",
    "                    [\"chlorine\", \"Cl\"],\n",
    "                    [\"bromine\", \"Br\"],\n",
    "                    [\"iodine\", \"I\"],\n",
    "                    [\"astatine\", \"At\"]]\n",
    "```\n",
    "Would your solution work regardless of whether you knew beforehand the length of the string or list (e.g. if you wanted to apply the solution to a set of lists of different lengths)? If not, try to change your approach to make it more robust.\n",
    "\n",
    "Hint: Remember that indices can be negative as well as positive\n"
   ]
  },
  {
   "cell_type": "code",
   "execution_count": 103,
   "metadata": {},
   "outputs": [
    {
     "name": "stdout",
     "output_type": "stream",
     "text": [
      "2013\n",
      "[['chlorine', 'Cl'], ['bromine', 'Br'], ['iodine', 'I'], ['astatine', 'At']]\n",
      "['At']\n"
     ]
    }
   ],
   "source": [
    "string_for_slicing = \"Observation date: 02-Feb-2013\"\n",
    "list_for_slicing = [[\"fluorine\", \"F\"],\n",
    "                    [\"chlorine\", \"Cl\"],\n",
    "                    [\"bromine\", \"Br\"],\n",
    "                    [\"iodine\", \"I\"],\n",
    "                    [\"astatine\", \"At\"]]\n",
    "\n",
    "print(string_for_slicing[-4:])\n",
    "print(list_for_slicing[-4:])\n",
    "print(list_for_slicing[-1][1:])"
   ]
  },
  {
   "cell_type": "markdown",
   "metadata": {},
   "source": [
    "### Non-Continuous Slices\n",
    "So far we've seen how to use slicing to take single blocks of successive entries from a sequence. But what if we want to take a subset of entries that aren't next to each other in the sequence?\n",
    "\n",
    "You can achieve this by providing a third argument to the range within the brackets, called the step size. The example below shows how you can take every third entry in a list:\n",
    "```\n",
    "primes = [2, 3, 5, 7, 11, 13, 17, 19, 23, 29, 31, 37]\n",
    "subset = primes[0:12:3]\n",
    "print(\"subset\", subset)\n",
    "```"
   ]
  },
  {
   "cell_type": "code",
   "execution_count": 104,
   "metadata": {},
   "outputs": [
    {
     "name": "stdout",
     "output_type": "stream",
     "text": [
      "subset [2, 7, 17, 29]\n"
     ]
    }
   ],
   "source": [
    "primes = [2, 3, 5, 7, 11, 13, 17, 19, 23, 29, 31, 37]\n",
    "subset = primes[0:12:3]\n",
    "print(\"subset\", subset)"
   ]
  },
  {
   "cell_type": "markdown",
   "metadata": {},
   "source": [
    "Notice that the slice taken begins with the first entry in the range, followed by entries taken at equally-spaced intervals (the steps) thereafter. If you wanted to begin the subset with the third entry, you would need to specify that as the starting point of the sliced range:\n",
    "```\n",
    "primes = [2, 3, 5, 7, 11, 13, 17, 19, 23, 29, 31, 37]\n",
    "subset = primes[2:12:3]\n",
    "print(\"subset\", subset)\n",
    "```"
   ]
  },
  {
   "cell_type": "code",
   "execution_count": 105,
   "metadata": {},
   "outputs": [
    {
     "name": "stdout",
     "output_type": "stream",
     "text": [
      "subset [5, 13, 23, 37]\n"
     ]
    }
   ],
   "source": [
    "primes = [2, 3, 5, 7, 11, 13, 17, 19, 23, 29, 31, 37]\n",
    "subset = primes[2:12:3]\n",
    "print(\"subset\", subset)"
   ]
  },
  {
   "cell_type": "markdown",
   "metadata": {},
   "source": [
    "Use the step size argument to create a new string that contains only every second character in the string \"In an octopus's garden in the shade\"\n",
    "\n",
    "Start with:\n",
    "```\n",
    "beatles = \"In an octopus's garden in the shade\"\n",
    "```\n",
    "and print:\n",
    "```\n",
    "I notpssgre ntesae\n",
    "```"
   ]
  },
  {
   "cell_type": "code",
   "execution_count": 119,
   "metadata": {},
   "outputs": [
    {
     "name": "stdout",
     "output_type": "stream",
     "text": [
      "new string: I notpssgre ntesae\n"
     ]
    }
   ],
   "source": [
    "beatles = \"In an octopus's garden in the shade\"\n",
    "new = beatles[0:len(beatles):2]\n",
    "print(\"new string:\", new)\n",
    "\n",
    "# or easier:\n",
    "new = beatles[0::2]"
   ]
  },
  {
   "cell_type": "markdown",
   "metadata": {},
   "source": [
    "If you want to take a slice from the beginning of a sequence, you can omit the first index in the range:\n",
    "```\n",
    "date = \"Monday 4 January 2016\"\n",
    "day = date[0:6]\n",
    "print(\"Using 0 to begin range:\", day)\n",
    "day = date[:6]\n",
    "print(\"Omitting beginning index:\", day)\n",
    "```"
   ]
  },
  {
   "cell_type": "code",
   "execution_count": 111,
   "metadata": {},
   "outputs": [
    {
     "name": "stdout",
     "output_type": "stream",
     "text": [
      "Using 0 to begin range: Monday\n",
      "Omitting beginning index: Monday\n"
     ]
    }
   ],
   "source": [
    "date = \"Monday 4 January 2016\"\n",
    "day = date[0:6]\n",
    "print(\"Using 0 to begin range:\", day)\n",
    "day = date[:6]\n",
    "print(\"Omitting beginning index:\", day)"
   ]
  },
  {
   "cell_type": "markdown",
   "metadata": {},
   "source": [
    "And similarly, you can omit the ending index in the range to take a slice to the end of the sequence:\n",
    "```\n",
    "months = [\"jan\", \"feb\", \"mar\", \"apr\", \"may\", \"jun\", \"jul\", \"aug\", \"sep\", \"oct\", \"nov\", \"dec\"]\n",
    "q4 = months[8:12]\n",
    "print(\"With specified start and end position:\", q4)\n",
    "q4 = months[8:len(months)]\n",
    "print(\"Using len() to get last entry:\", q4)\n",
    "q4 = months[8:]\n",
    "print(\"Omitting ending index:\", q4)\n",
    "```\n"
   ]
  },
  {
   "cell_type": "code",
   "execution_count": 112,
   "metadata": {},
   "outputs": [
    {
     "name": "stdout",
     "output_type": "stream",
     "text": [
      "With specified start and end position: ['sep', 'oct', 'nov', 'dec']\n",
      "Using len() to get last entry: ['sep', 'oct', 'nov', 'dec']\n",
      "Omitting ending index: ['sep', 'oct', 'nov', 'dec']\n"
     ]
    }
   ],
   "source": [
    "months = [\"jan\", \"feb\", \"mar\", \"apr\", \"may\", \"jun\", \"jul\", \"aug\", \"sep\", \"oct\", \"nov\", \"dec\"]\n",
    "q4 = months[8:12]\n",
    "print(\"With specified start and end position:\", q4)\n",
    "q4 = months[8:len(months)]\n",
    "print(\"Using len() to get last entry:\", q4)\n",
    "q4 = months[8:]\n",
    "print(\"Omitting ending index:\", q4)"
   ]
  },
  {
   "cell_type": "markdown",
   "metadata": {},
   "source": [
    "### Overloading\n",
    "`+` usually means addition, but when used on strings or lists, it means \"concatenate\". Given that, what do you think the multiplication operator * does on lists? In particular, what will be the output of the following code?\n",
    "```\n",
    "counts = [2, 4, 6, 8, 10]\n",
    "repeats = counts * 2\n",
    "print(repeats)\n",
    "```\n",
    "\n",
    "The technical term for this is operator overloading. A single operator, like `+` or `*`, can do different things depending on what it's applied to."
   ]
  },
  {
   "cell_type": "code",
   "execution_count": 113,
   "metadata": {},
   "outputs": [
    {
     "name": "stdout",
     "output_type": "stream",
     "text": [
      "[2, 4, 6, 8, 10, 2, 4, 6, 8, 10]\n"
     ]
    }
   ],
   "source": [
    "counts = [2, 4, 6, 8, 10]\n",
    "repeats = counts * 2\n",
    "print(repeats)"
   ]
  },
  {
   "cell_type": "markdown",
   "metadata": {},
   "source": [
    "is this the same as:\n",
    "```\n",
    "counts + counts\n",
    "```\n",
    "and what might:\n",
    "```\n",
    "counts / 2\n",
    "```\n",
    "mean ?"
   ]
  },
  {
   "cell_type": "code",
   "execution_count": 122,
   "metadata": {},
   "outputs": [
    {
     "data": {
      "text/plain": [
       "[2, 4, 6, 8, 10]"
      ]
     },
     "execution_count": 122,
     "metadata": {},
     "output_type": "execute_result"
    }
   ],
   "source": [
    "# lists can't be divided, need slice if you want a half\n",
    "double_counts = counts*2\n",
    "double_counts[:int(len(double_counts)/2)]"
   ]
  },
  {
   "cell_type": "markdown",
   "metadata": {},
   "source": [
    "## Key Points\n",
    "- [value1, value2, value3, ...] creates a list.\n",
    "- Lists can contain any Python object, including lists (i.e., list of lists).\n",
    "- Lists are indexed and sliced with square brackets (e.g., list[0] and list[2:9]), in the same way as strings and arrays.\n",
    "- Lists are mutable (i.e., their values can be changed in place).\n",
    "- Strings are immutable (i.e., the characters in them cannot be changed)."
   ]
  },
  {
   "cell_type": "markdown",
   "metadata": {},
   "source": [
    "### Save, and version control your changes\n",
    "\n",
    "- save your work: `File -> Save`\n",
    "- add all your changes to your local repository: `Terminal -> git add .`\n",
    "- commit your updates a new Git version:  `Terminal -> git commit -m \"End of Episode 3\"`\n",
    "- push your latest commits to GitHub: `Terminal -> git push`"
   ]
  },
  {
   "cell_type": "code",
   "execution_count": null,
   "metadata": {},
   "outputs": [],
   "source": []
  }
 ],
 "metadata": {
  "kernelspec": {
   "display_name": "Python 3",
   "language": "python",
   "name": "python3"
  },
  "language_info": {
   "codemirror_mode": {
    "name": "ipython",
    "version": 3
   },
   "file_extension": ".py",
   "mimetype": "text/x-python",
   "name": "python",
   "nbconvert_exporter": "python",
   "pygments_lexer": "ipython3",
   "version": "3.7.3"
  }
 },
 "nbformat": 4,
 "nbformat_minor": 4
}
